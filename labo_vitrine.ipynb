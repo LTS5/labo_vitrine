{
  "nbformat": 4,
  "nbformat_minor": 0,
  "metadata": {
    "colab": {
      "provenance": [],
      "collapsed_sections": [
        "Jz7EZqp3Kxlg",
        "ZRK2seFlCJWo",
        "lim0euAECNCV",
        "rFo3X9swCOoK",
        "MIbi4OgiAv3A",
        "TaiaZ59Oask4",
        "_D3O3MSXbduf",
        "jXAnl_elM4nT",
        "HexaN8cOArYV"
      ],
      "toc_visible": true
    },
    "kernelspec": {
      "name": "python3",
      "display_name": "Python 3"
    },
    "language_info": {
      "name": "python"
    }
  },
  "cells": [
    {
      "cell_type": "markdown",
      "source": [
        "# 1. Evaluation\n",
        "Rendre ce document complété (remplacer les TODOs) qui contient les figures correspondantes à chaque exercice et vos commentaires, observations et conclusions sur les expériences.\n",
        "\n",
        "Une fois complété, vous devez télécharger ce notebook au format ipynb (file > download > .ipynb) et le rendre sur le Moodle.\n",
        "\n",
        "\n"
      ],
      "metadata": {
        "id": "Jz7EZqp3Kxlg"
      }
    },
    {
      "cell_type": "markdown",
      "source": [
        "# 2. Description des expériences\n",
        "Cette séance de laboratoire s’intéresse à la représentation fréquentielle des signaux, et en particulier à la transformée de Fourier. Ce type de représentation est au coeur de nombreuses applications en traitement de signal, comme la compression (musiques, images ou vidéos), l’analyse de signaux de toute nature (données météorologiques, financières ou médicales), ou encore la transmission d’informations par différents moyens (fibres optiques ou ondes radio).\n",
        "\n",
        "Ce laboratoire permet tout d’abord de comprendre et visualiser les concepts de base de la transformée de Fourier. Alors qu’une approche naturelle pour représenter un signal audio consiste à associer une amplitude sonore à différents instants temporels consécutifs, on peut imaginer construire ce même signal audio à l’aide d’une somme de fonctions sinusoïdales oscillantes à différentes fréquences,représentant chacune un son précis. De même, on peut représenter une image soit à l’aide d’un tableau de valeurs qui décrivent\n",
        "l’intensité lumineuse de chaque pixel, ou alors comme une composition de structures de différentes natures, comme des parties uniformes et lisses, ou des parties fortement texturées. Ces représentations de signaux à l’aide de combinaisons de composantes fréquentielles est une des façons intuitives de concevoir l'outil mathématique qu'est la transformée de Fourier. Il est ensuite souvent plus simple de travailler avec de telles représentations pour des applications de traitement du signal, puisqu’on peut alors manipuler les composantes fréquentielles individuellements les unes des autres.\n",
        "\n",
        "Plus précisément, la transformée de Fourier d’un signal dans le domaine temporel $x(t)$, qui représente par exemple un signal audio, vers le domaine fréquentiel $X(f)$  peut s’écrire comme \n",
        "\n",
        "$$X(f) = \\int^{\\infty}_{-\\infty} x(t) \\, e^{-2 \\pi i t f  \\, dt }$$,\n",
        "\n",
        "où $t$ est la variable temporelle, $f$ la variable fréquentielle et $i$ est le nombre imaginaire. \n",
        "\n",
        "Ce laboratoire permet de visualiser, à l’aide de Python, les transformées de Fourier de différents signaux, et de se familiariser à l’utilisation de cet outil dans différentes applications en traitement du signal.\n",
        "\n",
        "\n",
        "**Pour chaque expérience, il faut effectuer la marche à suivre et discuter les observations de manière succincte vos observations**. Executez les commandes ci-dessous (SHIFT + ENTER pour executer chaque cellule): "
      ],
      "metadata": {
        "id": "uEKqkWokLFxZ"
      }
    },
    {
      "cell_type": "code",
      "execution_count": null,
      "metadata": {
        "id": "ssPRmOSSHjCD"
      },
      "outputs": [],
      "source": [
        "# Inclure les librairies nécessaires\n",
        "import numpy as np\n",
        "import matplotlib.pyplot as plt\n",
        "import warnings\n",
        "import urllib.request\n",
        "import pandas as pd\n",
        "from IPython.display import Audio\n",
        "from scipy.io import wavfile, loadmat\n",
        "from scipy.signal import butter, sosfilt\n",
        "from scipy.ndimage import gaussian_filter\n",
        "\n",
        "warnings.filterwarnings(\"ignore\")\n",
        "%matplotlib inline"
      ]
    },
    {
      "cell_type": "code",
      "source": [
        "# Clone les données du TP depuis GitHub\n",
        "!git clone https://github.com/LTS5/labo_vitrine.git"
      ],
      "metadata": {
        "id": "S2VMckCDQMtH"
      },
      "execution_count": null,
      "outputs": []
    },
    {
      "cell_type": "markdown",
      "source": [
        "# 3. Visualisation de différents signaux\n"
      ],
      "metadata": {
        "id": "HE7UQBQcLJ02"
      }
    },
    {
      "cell_type": "markdown",
      "source": [
        "\n",
        "## 3.1 FFT signal simple\n",
        "La première expérience consiste à visualiser différents signaux, à observer et à discuter leurs transformées de Fourier.\n",
        "\n",
        "On crée un signal qui est une sinusoïde de fréquence 0.2 Hz, de la forme $x(t)=sin(2πf t)$, avec $f = 0.2 Hz$."
      ],
      "metadata": {
        "id": "8HXYQG7wMqn9"
      }
    },
    {
      "cell_type": "code",
      "source": [
        "# Vecteur de temps [0, 0.5, ..., 99, 99.5] (s)\n",
        "t = np.linspace(start=0, stop=99.5, num=200)\n",
        "# Le signal\n",
        "x = np.sin(2 * np.pi * 0.2 * t)"
      ],
      "metadata": {
        "id": "8T-OHkY7HlOH"
      },
      "execution_count": null,
      "outputs": []
    },
    {
      "cell_type": "code",
      "source": [
        "# Calculer la transformée de Fourrier\n",
        "xf = np.fft.fftshift(np.fft.fft(x))\n",
        "f = np.linspace(start=-0.99, stop=1, num=200)"
      ],
      "metadata": {
        "id": "wCPCNar1x4_E"
      },
      "execution_count": null,
      "outputs": []
    },
    {
      "cell_type": "markdown",
      "source": [
        "Les commandes suivantes sont utilisées pour calculer et visualiser la représentation temporelle et fréquentielle de ce signal:"
      ],
      "metadata": {
        "id": "YKTrKBPKyNeM"
      }
    },
    {
      "cell_type": "code",
      "source": [
        "# Afficher les signaux\n",
        "_, axes = plt.subplots(nrows=1, ncols=2, figsize=(12,4), dpi= 100, facecolor='w', edgecolor='k')\n",
        "# Plot gauche\n",
        "axes[0].plot(t, x)\n",
        "axes[0].set_xlabel('Temps (s)')\n",
        "axes[0].set_ylabel('x(t)')\n",
        "axes[0].set_title('Signal x(t) dans le domaine temporel')\n",
        "# Plot droite\n",
        "axes[1].stem(f, np.abs(xf))\n",
        "axes[1].set_xlabel('Fréquences (Hz)')\n",
        "axes[1].set_ylabel('X(f)')\n",
        "axes[1].set_title('Signal x(t) dans le domaine fréquentiel')\n",
        "plt.show()"
      ],
      "metadata": {
        "id": "pffgLF4zohyr"
      },
      "execution_count": null,
      "outputs": []
    },
    {
      "cell_type": "markdown",
      "source": [
        "\n",
        "### Vos commentaires\n",
        "> [TODO] \n"
      ],
      "metadata": {
        "id": "ZRK2seFlCJWo"
      }
    },
    {
      "cell_type": "markdown",
      "source": [
        "---\n",
        "\n",
        "## 3.2 FFT signaux multiple\n",
        "\n",
        "A l’aide des commandes suivantes, on crée un signal qui est la somme de trois sinusoïdes. On calcule et affiche sa transformée de Fourier:"
      ],
      "metadata": {
        "id": "JuclaC7Euxtv"
      }
    },
    {
      "cell_type": "code",
      "source": [
        "# Le signal\n",
        "x2 = np.sin(2 * np.pi * 0.2 * t) + np.sin(2 * np.pi * 0.02 * t)+ np.sin(2 * np.pi * 0.8 * t )\n",
        "x2f = np.fft.fftshift(np.fft.fft(x2))"
      ],
      "metadata": {
        "id": "uBqKrjkLr_sG"
      },
      "execution_count": null,
      "outputs": []
    },
    {
      "cell_type": "code",
      "source": [
        "# Afficher les signaux\n",
        "_, axes = plt.subplots(nrows=1, ncols=2, figsize=(12,4), dpi= 100, facecolor='w', edgecolor='k')\n",
        "# Plot gauche\n",
        "axes[0].plot(t, x2)\n",
        "axes[0].set_xlabel('Temps (s)')\n",
        "axes[0].set_ylabel('x2(t)')\n",
        "axes[0].set_title('Signal x2(t) dans le domaine temporel')\n",
        "# Plot droite\n",
        "axes[1].stem(f, np.abs(x2f))\n",
        "axes[1].set_xlabel('Fréquences (Hz)')\n",
        "axes[1].set_ylabel('X2(f)')\n",
        "axes[1].set_title('Signal x2(t) dans le domaine fréquentiel')\n",
        "plt.show()"
      ],
      "metadata": {
        "id": "bFJyWuiosCsh"
      },
      "execution_count": null,
      "outputs": []
    },
    {
      "cell_type": "markdown",
      "source": [
        "\n",
        "### Vos commentaires\n",
        "> [TODO] \n"
      ],
      "metadata": {
        "id": "lim0euAECNCV"
      }
    },
    {
      "cell_type": "markdown",
      "source": [
        "---\n",
        "\n",
        "## 3.3 FFT Inverse\n",
        "\n",
        "On vérifie que la transformée inverse donne bien le signal original. La commande `ifft` calcule l’inverse de la transformée de Fourier :"
      ],
      "metadata": {
        "id": "aQXX1MV5vnOl"
      }
    },
    {
      "cell_type": "code",
      "source": [
        "# Calcule la fft et son inverse (ifft)\n",
        "x2_ = np.real(np.fft.ifft(np.fft.fft(x2)))\n",
        "# Calcule l'erreur entre le sinal de départ et sa transformée\n",
        "print(\"Erreur: {}\".format(np.abs(x2_ - x2).mean()))"
      ],
      "metadata": {
        "id": "vhP3M-3Zvj_Z"
      },
      "execution_count": null,
      "outputs": []
    },
    {
      "cell_type": "markdown",
      "source": [
        "\n",
        "### Vos commentaires\n",
        "> [TODO] \n"
      ],
      "metadata": {
        "id": "rFo3X9swCOoK"
      }
    },
    {
      "cell_type": "markdown",
      "source": [
        "---\n",
        "\n",
        "## 3.4 Application: Taches solaires\n",
        "\n",
        "On répète les opérations de calculs et de visualisations de la transformée de Fourier pour le signal réel `sunspots`. Le fichier inclut le nombre de taches solaires observées depuis 1700 (Source: WDC-SILSO, Royal Observatory of Belgium, Brussels). A l’aide de la transformée de Fourier, déterminez la période dominante du signal, c'est-à-dire l'intervalle de temps après lequel le signal se répète approximativement."
      ],
      "metadata": {
        "id": "WQCwvTcWyroN"
      }
    },
    {
      "cell_type": "code",
      "source": [
        "# Formatage des données\n",
        "data_path = \"/content/labo_vitrine/data/SN_y_tot_V2.0.txt\"\n",
        "data = pd.read_csv(data_path, sep='\\s+', header=0, names=['year', 'ssn', 'a', 'b'])\n",
        "data.dropna(inplace=True)"
      ],
      "metadata": {
        "id": "Hl134vPJysPn"
      },
      "execution_count": null,
      "outputs": []
    },
    {
      "cell_type": "code",
      "source": [
        "t = data['year'].values\n",
        "x = data['ssn'].values\n",
        "# Calcule de la transformée de Fourier\n",
        "xf = np.fft.fftshift(np.fft.fft(x))\n",
        "f = np.linspace(start=-0.5, stop=0.5, num=len(t))"
      ],
      "metadata": {
        "id": "0ZAQWwKm2oD2"
      },
      "execution_count": null,
      "outputs": []
    },
    {
      "cell_type": "code",
      "source": [
        "# Affiche les signaux\n",
        "_, axes = plt.subplots(nrows=1, ncols=3, figsize=(18,4), dpi= 100, facecolor='w', edgecolor='k')\n",
        "# Graphique de gauche\n",
        "axes[0].plot(t, x)\n",
        "axes[0].set_xlabel('Années')\n",
        "axes[0].set_ylabel('# Taches solaires')\n",
        "axes[0].set_title('Nombre de taches solaires dans le domaine temporel')\n",
        "# Graphique du milieu\n",
        "axes[1].stem(f, np.abs(xf))\n",
        "axes[1].set_xlabel('Cycles/Années')\n",
        "axes[1].set_ylabel('X(f)')\n",
        "axes[1].set_title('Nombre de taches solaires (Cycles/Années)')\n",
        "# Graphique de droite\n",
        "axes[2].plot(1/ f[len(f) // 2 + 1 :], np.abs(xf[len(f) // 2 + 1: ]))\n",
        "axes[2].set_xlabel('Années/Cycles')\n",
        "axes[2].set_ylabel('X(f)')\n",
        "axes[2].set_xlim([0, 30])\n",
        "axes[2].set_title('Nombre de taches solaires (Années/Cycles)')\n",
        "plt.show()"
      ],
      "metadata": {
        "id": "lStEyNgvzW4E"
      },
      "execution_count": null,
      "outputs": []
    },
    {
      "cell_type": "markdown",
      "source": [
        "\n",
        "### Vos commentaires\n",
        "> [TODO] \n"
      ],
      "metadata": {
        "id": "MIbi4OgiAv3A"
      }
    },
    {
      "cell_type": "markdown",
      "source": [
        "# 4. Filtrage de signaux\n",
        "\n",
        "La deuxième expérience illustre une utilisation de la transformée de Fourier consistant à améliorer la qualité d'un signal: le débruitage. Ceci est nécessaire lorsque le signal observé contient du bruit dû, par exemple,\n",
        "au système de mesure, à des phénomènes parasites, ou à des problèmes de transmission. Il est souvent important d’enlever ce bruit pour améliorer la qualité du signal ou pour obtenir une meilleure interprétation de l’information contenue dans le signal."
      ],
      "metadata": {
        "id": "Hk9xsnqlD51x"
      }
    },
    {
      "cell_type": "markdown",
      "source": [
        "## 4.1 Audio\n",
        "On charge un signal audio (écoutez-le) et on affiche sa transformée de Fourier."
      ],
      "metadata": {
        "id": "PR-CPWvjbDJL"
      }
    },
    {
      "cell_type": "code",
      "source": [
        "# Lire le fichier\n",
        "file_audio = \"/content/labo_vitrine/data/gabriel.wav\"\n",
        "samplerate, x = wavfile.read(file_audio)\n",
        "# Crée le lecteur audio\n",
        "Audio(x, rate=samplerate)"
      ],
      "metadata": {
        "id": "GIVUbpK2EA84"
      },
      "execution_count": null,
      "outputs": []
    },
    {
      "cell_type": "code",
      "source": [
        "# Transforme le signal audio (FFT + dB)\n",
        "xf = np.fft.fftshift(np.fft.fft(x))\n",
        "t = np.linspace(start=0, stop=len(x)/samplerate, num=len(x))\n",
        "f = np.linspace(start=-samplerate/2, stop=samplerate/2, num=len(x))"
      ],
      "metadata": {
        "id": "zRKK4W6_UzF2"
      },
      "execution_count": null,
      "outputs": []
    },
    {
      "cell_type": "code",
      "source": [
        "# Affiche les signaux\n",
        "_, axes = plt.subplots(nrows=1, ncols=2, figsize=(12,4), dpi= 100, facecolor='w', edgecolor='k')\n",
        "# Graphique de gauche\n",
        "axes[0].plot(t, x)\n",
        "axes[0].set_xlabel('Temps (s)')\n",
        "axes[0].set_ylabel('x(t)')\n",
        "axes[0].set_title('Signal audio dans le domaine temporel')\n",
        "# Graphique de droite\n",
        "axes[1].loglog(f[len(f)//2+1:], 20*np.log10(np.abs(xf[len(f)//2+1:])))\n",
        "axes[1].set_xlabel('Fréquences (Hz)')\n",
        "axes[1].set_ylabel('log(X(f))')\n",
        "axes[1].set_title('Signal audio dans le domaine fréquentiel')\n",
        "plt.show()"
      ],
      "metadata": {
        "id": "jd7EREjGUEEI"
      },
      "execution_count": null,
      "outputs": []
    },
    {
      "cell_type": "markdown",
      "source": [
        "---\n",
        "\n",
        "## 4.2 Filtre passe bas\n",
        "\n",
        "On applique un filtre passe-bas au signal puis on l’affiche avec sa transformée de Fourier. Écoutez le signal obtenu et discutez les résultats."
      ],
      "metadata": {
        "id": "g-kfvsdrMykO"
      }
    },
    {
      "cell_type": "code",
      "source": [
        "# Crée un filtre passe-bas d'ordre N=4  avec unr fréquence de coupure à Wn=200 Hz\n",
        "sos = butter(N=4, Wn=200, btype='low', fs=samplerate, output='sos')\n",
        "\n",
        "# Filtre le signal\n",
        "filtered = sosfilt(sos, x)"
      ],
      "metadata": {
        "id": "e8wLC-C6TyRp"
      },
      "execution_count": null,
      "outputs": []
    },
    {
      "cell_type": "code",
      "source": [
        "# Calcule la FFT\n",
        "xf = np.fft.fftshift(np.fft.fft(filtered))\n",
        "t = np.linspace(start=0, stop=len(x)/samplerate, num=len(x))\n",
        "f = np.linspace(start=-samplerate/2, stop=samplerate/2, num=len(x))"
      ],
      "metadata": {
        "id": "yAvh1-RYYiJA"
      },
      "execution_count": null,
      "outputs": []
    },
    {
      "cell_type": "code",
      "source": [
        "# Joue le signal filtré\n",
        "Audio(filtered, rate=samplerate)"
      ],
      "metadata": {
        "id": "fdvY-y3-ZIQ6"
      },
      "execution_count": null,
      "outputs": []
    },
    {
      "cell_type": "code",
      "source": [
        "# Affiche les signaux\n",
        "_, axes = plt.subplots(nrows=1, ncols=2, figsize=(12,4), dpi= 100, facecolor='w', edgecolor='k')\n",
        "# Graphique de gauche\n",
        "axes[0].plot(t, filtered)\n",
        "axes[0].set_xlabel('Temps (s)')\n",
        "axes[0].set_ylabel('x(t)')\n",
        "axes[0].set_title('Signal audio filtré dans le domaine temporel')\n",
        "# Graphique de droite\n",
        "axes[1].loglog(f[len(f)//2+1:], 20*np.log10(np.abs(xf[len(f)//2+1:])))\n",
        "axes[1].set_xlabel('Fréquences (Hz)')\n",
        "axes[1].set_ylabel('log(X(f))')\n",
        "axes[1].set_title('Signal audio filtré dans le domaine fréquentiel')\n",
        "axes[1].vlines(200, ymin=1e1, ymax=1e2)\n",
        "plt.show()"
      ],
      "metadata": {
        "id": "FBH_9Z3BUIdQ"
      },
      "execution_count": null,
      "outputs": []
    },
    {
      "cell_type": "markdown",
      "source": [
        "\n",
        "### Vos commentaires\n",
        "> [TODO] \n"
      ],
      "metadata": {
        "id": "TaiaZ59Oask4"
      }
    },
    {
      "cell_type": "markdown",
      "source": [
        "---\n",
        "\n",
        "## 4.3 Filtre passe haut\n",
        "\n",
        "On applique un filtre passe-haut au signal puis on l’affiche avec sa transformée de Fourier. Écoutez le signal obtenu et discutez les résultats."
      ],
      "metadata": {
        "id": "SsZAfmh4bW40"
      }
    },
    {
      "cell_type": "code",
      "source": [
        "# Crée un filtre passe-haut d'ordre N=4  avec une fréquence de coupure à Wn=1 kHz\n",
        "sos = butter(N=4, Wn=1000, btype='high', fs=samplerate, output='sos')\n",
        "\n",
        "# Filtre le signal\n",
        "filtered = sosfilt(sos, x)"
      ],
      "metadata": {
        "id": "xEnAtShSbv59"
      },
      "execution_count": null,
      "outputs": []
    },
    {
      "cell_type": "code",
      "source": [
        "# Calcule la FFT\n",
        "xf = np.fft.fftshift(np.fft.fft(filtered))\n",
        "t = np.linspace(start=0, stop=len(x)/samplerate, num=len(x))\n",
        "f = np.linspace(start=-samplerate/2, stop=samplerate/2, num=len(x))"
      ],
      "metadata": {
        "id": "MV5YYaiybv5_"
      },
      "execution_count": null,
      "outputs": []
    },
    {
      "cell_type": "code",
      "source": [
        "# Joue le signal filtré\n",
        "Audio(filtered, rate=samplerate)"
      ],
      "metadata": {
        "id": "qqQUdwrvbv6B"
      },
      "execution_count": null,
      "outputs": []
    },
    {
      "cell_type": "code",
      "source": [
        "# Afficherles signaux\n",
        "_, axes = plt.subplots(nrows=1, ncols=2, figsize=(12,4), dpi= 100, facecolor='w', edgecolor='k')\n",
        "# Plot gauche\n",
        "axes[0].plot(t, filtered)\n",
        "axes[0].set_xlabel('Temps (s)')\n",
        "axes[0].set_ylabel('x(t)')\n",
        "axes[0].set_title('Signal audio filtré dans le domaine temporel')\n",
        "# Plot droite\n",
        "axes[1].loglog(f[len(f)//2+1:], 20*np.log10(np.abs(xf[len(f)//2+1:])))\n",
        "axes[1].set_xlabel('Fréquences (Hz)')\n",
        "axes[1].set_ylabel('log(X(f))')\n",
        "axes[1].set_title('Signal audio filtré dans le domaine fréquentiel')\n",
        "axes[1].vlines(1000, ymin=1e1, ymax=1e2)\n",
        "plt.show()"
      ],
      "metadata": {
        "id": "LmTyq2nJbv6C"
      },
      "execution_count": null,
      "outputs": []
    },
    {
      "cell_type": "markdown",
      "source": [
        "\n",
        "### Vos commentaires\n",
        "> [TODO] \n"
      ],
      "metadata": {
        "id": "_D3O3MSXbduf"
      }
    },
    {
      "cell_type": "markdown",
      "source": [
        "---\n",
        "\n",
        "## 4.4 Filtre passe bas (image)\n",
        "\n",
        "Un signal audio est un signal 1D pour lequel chaque valeur correspond à un temps. Une image est un signal 2D pour lequel chaque valeur correspond à des coordonnées dans un plan.\n",
        "\n",
        "Le code suivant applique un filtre passe-bas au signal 2D (et à sa version bruitée) puis l’affiche avec sa transformée de Fourier. Discutez des résultats."
      ],
      "metadata": {
        "id": "CAVVpoaIcd0Q"
      }
    },
    {
      "cell_type": "code",
      "source": [
        "from skimage import data\n",
        "\n",
        "# Recupère les données de l'image\n",
        "purecam = data.camera()\n",
        "# Ajoute du bruit à l'image\n",
        "purecam_noise = purecam + (30*np.random.randn(*purecam.shape)).astype(int)\n",
        "purecam_noise = np.clip(purecam_noise, a_max=255, a_min=0)"
      ],
      "metadata": {
        "id": "ZorMsquocsFo"
      },
      "execution_count": null,
      "outputs": []
    },
    {
      "cell_type": "code",
      "source": [
        "# Calcule la FFT des deux images\n",
        "purecam_f = np.fft.fftshift(np.fft.fft2(purecam))\n",
        "purecam_noise_f = np.fft.fftshift(np.fft.fft2(purecam_noise))"
      ],
      "metadata": {
        "id": "W8M0YPc4T68S"
      },
      "execution_count": null,
      "outputs": []
    },
    {
      "cell_type": "code",
      "source": [
        "# Affiche les images\n",
        "_, axes = plt.subplots(nrows=2, ncols=2, figsize=(8,8), dpi= 100, facecolor='w', edgecolor='k')\n",
        "# Graphique 0, 0\n",
        "axes[0, 0].imshow(purecam)\n",
        "axes[0, 0].set_title('Image de référence')\n",
        "axes[0, 0].set_xlabel('x')\n",
        "axes[0, 0].set_ylabel('y')\n",
        "# Graphique 0, 1\n",
        "axes[0, 1].imshow(20*np.log10(np.abs(purecam_f)))\n",
        "axes[0, 1].set_title('Image de référence FFT')\n",
        "axes[0, 1].set_xlabel('fx')\n",
        "axes[0, 1].set_ylabel('fy')\n",
        "# Graphique 0, 0\n",
        "axes[1, 0].imshow(purecam_noise)\n",
        "axes[1, 0].set_title('Image de bruitée')\n",
        "axes[1, 0].set_xlabel('x')\n",
        "axes[1, 0].set_ylabel('y')\n",
        "# Graphique 0, 1\n",
        "r = axes[1, 1].imshow(20*np.log10(np.abs(purecam_noise_f)))\n",
        "axes[1, 1].set_title('Image bruitée FFT')\n",
        "axes[1, 1].set_xlabel('fx')\n",
        "axes[1, 1].set_ylabel('fy')\n",
        "plt.colorbar(r)\n",
        "plt.tight_layout()\n",
        "plt.show()"
      ],
      "metadata": {
        "id": "lfL-DGaRSmKa"
      },
      "execution_count": null,
      "outputs": []
    },
    {
      "cell_type": "code",
      "source": [
        "# Applique un filtre pass bas à l'image\n",
        "purecam_filtered = gaussian_filter(purecam_noise, sigma=3)\n",
        "# Calcule la FFT\n",
        "purecam_filtered_f = np.fft.fftshift(np.fft.fft2(purecam_filtered))"
      ],
      "metadata": {
        "id": "Kh4n2FA8V-5h"
      },
      "execution_count": null,
      "outputs": []
    },
    {
      "cell_type": "code",
      "source": [
        "# Afficher les signaux\n",
        "_, axes = plt.subplots(nrows=1, ncols=2, figsize=(8,8), dpi= 100, facecolor='w', edgecolor='k')\n",
        "# Plot 0, 0\n",
        "axes[0].imshow(purecam_filtered)\n",
        "axes[0].set_title('Image filtrée')\n",
        "axes[0].set_xlabel('x')\n",
        "axes[0].set_ylabel('y')\n",
        "# Plot 0, 1\n",
        "axes[1].imshow(20*np.log10(np.abs(purecam_filtered_f)))\n",
        "axes[1].set_title('Image filtrée FFT')\n",
        "axes[1].set_xlabel('fx')\n",
        "axes[1].set_ylabel('fy')\n",
        "plt.show()"
      ],
      "metadata": {
        "id": "NHV59woeWbO3"
      },
      "execution_count": null,
      "outputs": []
    },
    {
      "cell_type": "markdown",
      "source": [
        "\n",
        "### Vos commentaires\n",
        "> [TODO] \n"
      ],
      "metadata": {
        "id": "jXAnl_elM4nT"
      }
    },
    {
      "cell_type": "markdown",
      "source": [
        "---\n",
        "\n",
        "# 5. Modulation/Démodulation\n",
        "\n"
      ],
      "metadata": {
        "id": "cMo85QRwXRRH"
      }
    },
    {
      "cell_type": "markdown",
      "source": [
        "\n",
        "## 5.1 Modulation\n",
        "La troisième expérience s’intéresse à l’utilisation de la transformée de Fourier pour la transmission de signaux,notamment dans les opérations de modulation et démodulation. La première étape, avant la transmission du signal, est la modulation. "
      ],
      "metadata": {
        "id": "bSewaThFK638"
      }
    },
    {
      "cell_type": "code",
      "source": [
        "# Lit le fichier\n",
        "file_audio = \"/content/labo_vitrine/data/hal.wav\"\n",
        "samplerate, x = wavfile.read(file_audio)\n",
        "# Crée le lecteur audio\n",
        "Audio(x, rate=samplerate)"
      ],
      "metadata": {
        "id": "d3J-wy3vXgiQ"
      },
      "execution_count": null,
      "outputs": []
    },
    {
      "cell_type": "code",
      "source": [
        "# Signal sur-echantillonné\n",
        "\n",
        "overfs = 200e3;\n",
        "padding = ( overfs / samplerate ) - 1;\n",
        "\n",
        "xf = np.fft.fftshift(np.fft.fft(x))\n",
        "zpad = np.zeros(int(padding*len(x) // 2 + 1))\n",
        "zpfx = np.concatenate((zpad, xf, zpad));\n",
        "ox = (padding+1)*np.real(np.fft.ifft(np.fft.fftshift(zpfx)));"
      ],
      "metadata": {
        "id": "kcq7dBi9DVIy"
      },
      "execution_count": null,
      "outputs": []
    },
    {
      "cell_type": "code",
      "source": [
        "# Transforme le signal audio (FFT + dB)\n",
        "ot = np.linspace(start=0, stop=len(ox)/overfs, num=len(ox))\n",
        "oxf = np.fft.fftshift(np.fft.fft(ox))\n",
        "of = np.linspace(start=-overfs/2, stop=overfs/2, num=len(ox))"
      ],
      "metadata": {
        "id": "dBEvNjUZ2VUi"
      },
      "execution_count": null,
      "outputs": []
    },
    {
      "cell_type": "code",
      "source": [
        "# Affiche les signaux\n",
        "_, axes = plt.subplots(nrows=1, ncols=2, figsize=(12,4), dpi= 100, facecolor='w', edgecolor='k')\n",
        "# Graphique gauche\n",
        "axes[0].plot(ot, ox)\n",
        "axes[0].set_xlabel('Temps (s)')\n",
        "axes[0].set_ylabel('x(t)')\n",
        "axes[0].set_title('Signal audio dans le domaine temporel')\n",
        "# Graphique droite\n",
        "axes[1].semilogy(of, 20*np.log10(np.abs(oxf)))\n",
        "axes[1].set_ylim([10, 200])\n",
        "axes[1].set_xlabel('Fréquences (Hz)')\n",
        "axes[1].set_ylabel('log(X(f))')\n",
        "axes[1].set_title('Signal audio dans le domaine fréquentiel')\n",
        "plt.show()"
      ],
      "metadata": {
        "id": "iIg6Ry6V2VUj"
      },
      "execution_count": null,
      "outputs": []
    },
    {
      "cell_type": "markdown",
      "source": [
        "Exécutez les cellules ci-dessous pour effectuer une modulation en amplitude du signal, on affiche le signal modulé et sa transformée de Fourier. Discutez des résultats."
      ],
      "metadata": {
        "id": "gwlocVL02_Zf"
      }
    },
    {
      "cell_type": "code",
      "source": [
        "# Paramètres de modulation\n",
        "f_m = 56e3\n",
        "A = 1\n",
        "t = np.arange(len(ox))\n",
        "modulator = np.cos(2*np.pi*f_m*t/overfs)\n",
        "\n",
        "# Signal modulé et fft \n",
        "xm = (A+modulator)*ox\n",
        "xmf = np.fft.fftshift(np.fft.fft(xm))"
      ],
      "metadata": {
        "id": "FTMelKdV6XZD"
      },
      "execution_count": null,
      "outputs": []
    },
    {
      "cell_type": "code",
      "source": [
        "# Affiche les signaux\n",
        "_, axes = plt.subplots(nrows=1, ncols=2, figsize=(12,4), dpi= 100, facecolor='w', edgecolor='k')\n",
        "# Graphique gauche\n",
        "axes[0].plot(t, xm)\n",
        "axes[0].set_xlabel('Temps (s)')\n",
        "axes[0].set_ylabel('x(t)')\n",
        "axes[0].set_title('Signal audio modulé dans le domaine temporel')\n",
        "# Graphique droite\n",
        "axes[1].semilogy(of, 20*np.log10(np.abs(xmf)))\n",
        "axes[1].set_ylim([10, 200])\n",
        "axes[1].set_xlabel('Fréquences (Hz)')\n",
        "axes[1].set_ylabel('log(X(f))')\n",
        "axes[1].set_title('Signal audio modulé dans le domaine fréquentiel')\n",
        "plt.show()"
      ],
      "metadata": {
        "id": "eEgoMZ-e4GaJ"
      },
      "execution_count": null,
      "outputs": []
    },
    {
      "cell_type": "markdown",
      "source": [
        "\n",
        "### Vos commentaires\n",
        "> [TODO] \n"
      ],
      "metadata": {
        "id": "ZI6pzi6A3FDh"
      }
    },
    {
      "cell_type": "markdown",
      "source": [
        "## 5.2 Démodulation\n",
        "\n",
        "A la réception du signal modulé, le signal initial peut être retrouvé en effectuant l'opération inverse, la démodulation. \n",
        "\n",
        "Les prochaines lignes démodulent le signal et l'affichent avec sa transformée de Fourier. Discutez des résultats."
      ],
      "metadata": {
        "id": "SJkoD89FKk-Y"
      }
    },
    {
      "cell_type": "code",
      "source": [
        "# Crée un filtre passe-bas d'ordre N=4 avec un fréquence de coupure à Wn=50 Hz\n",
        "sos = butter(N=4, Wn=1e3, btype='low', fs=overfs, output='sos')\n",
        "\n",
        "# Filtre le signal\n",
        "filtered = sosfilt(sos, xm)\n",
        "xf = np.fft.fftshift(np.fft.fft(filtered))"
      ],
      "metadata": {
        "id": "q35Lh1KICmDY"
      },
      "execution_count": null,
      "outputs": []
    },
    {
      "cell_type": "code",
      "source": [
        "# Affiche les signaux\n",
        "_, axes = plt.subplots(nrows=1, ncols=2, figsize=(12,4), dpi= 100, facecolor='w', edgecolor='k')\n",
        "# Graphique gauche\n",
        "axes[0].plot(ot, filtered)\n",
        "axes[0].set_xlabel('Temps (s)')\n",
        "axes[0].set_ylabel('x(t)')\n",
        "axes[0].set_title('Signal audio modulé dans le domaine temporel')\n",
        "# Graphique droite\n",
        "axes[1].semilogy(of, 20*np.log10(np.abs(xf)))\n",
        "axes[1].set_ylim([10, 200])\n",
        "axes[1].set_xlabel('Fréquences (Hz)')\n",
        "axes[1].set_ylabel('log(X(f))')\n",
        "axes[1].set_title('Signal audio modulé dans le domaine fréquentiel')\n",
        "plt.show()"
      ],
      "metadata": {
        "id": "6iWljwgkJQqY"
      },
      "execution_count": null,
      "outputs": []
    },
    {
      "cell_type": "markdown",
      "source": [
        "\n",
        "### Vos commentaires\n",
        "> [TODO] \n"
      ],
      "metadata": {
        "id": "HexaN8cOArYV"
      }
    },
    {
      "cell_type": "markdown",
      "source": [
        "---\n",
        "\n",
        "# 6 Débruitage\n",
        "\n",
        "Dans cette dernière expérience, l’objectif est d'améliorer la qualité d'un signal ECG (électrocardiogramme). Ces signaux peuvent être détérioré par du bruit, par exemple dû à des interférences venant du réseau électrique. Pour améliorer le signal, il faut utiliser les différents outils développés dans les expériences précédentes."
      ],
      "metadata": {
        "id": "xE0P8IOrAubF"
      }
    },
    {
      "cell_type": "code",
      "source": [
        "# Charge données\n",
        "ecg = pd.read_csv(\"/content/labo_vitrine/data/ecg.dat\",  header=None)\n",
        "ecg = ecg.values.flatten()\n",
        "\n",
        "# Calcule fft\n",
        "ecgf = np.fft.fft(ecg)\n",
        "fs = 500\n",
        "\n",
        "t = np.linspace(start=0, stop=len(ecg)/fs, num=len(ecg))\n",
        "f = np.linspace(start=0, stop=fs, num=len(ecg))"
      ],
      "metadata": {
        "id": "gKBilW6OJupY"
      },
      "execution_count": null,
      "outputs": []
    },
    {
      "cell_type": "code",
      "source": [
        "# Affiche les signaux\n",
        "_, axes = plt.subplots(nrows=1, ncols=2, figsize=(12,4), dpi=100, facecolor='w', edgecolor='k')\n",
        "# Graphique gauche\n",
        "axes[0].plot(t, ecg)\n",
        "axes[0].set_xlabel('Temps (s)')\n",
        "axes[0].set_ylabel('x(t)')\n",
        "axes[0].set_title('Signal x(t) dans le domaine temporel')\n",
        "# Graphique droite\n",
        "axes[1].plot(f[:250], np.abs(ecgf)[:250])\n",
        "axes[1].set_xlabel('Fréquences (Hz)')\n",
        "axes[1].set_ylabel('X(f)')\n",
        "axes[1].set_title('Signal x(t) dans le domaine fréquentiel')\n",
        "plt.show()"
      ],
      "metadata": {
        "id": "9r3KGN2pLAwk"
      },
      "execution_count": null,
      "outputs": []
    },
    {
      "cell_type": "markdown",
      "source": [
        "On filtre le signal au moyen du code ci-dessous. Cette fonction crée un filtre\n",
        "coupe-bande qui élimine le contenu correspondant à la fréquence $f_c$ (+- 15 $Hz$). Choisissez $f_c$ en fonction de vos observations sur le contenu en fréquence du signal ECG."
      ],
      "metadata": {
        "id": "GNrlkLcVaXHo"
      }
    },
    {
      "cell_type": "code",
      "source": [
        "# Crée un filtre coupe-bande d'ordre N=4 avec une zone de coupure à Wn=[fc-15, fc+15]\n",
        "fc = ...\n",
        "sos = butter(N=4, Wn=[fc-15, fc+15], btype='bandstop', fs=fs, output='sos')\n",
        "\n",
        "# Filtre le signal\n",
        "filtered = sosfilt(sos, ecg)\n",
        "\n",
        "# Calcule la FFT\n",
        "filtered_xf = np.fft.fft(filtered)"
      ],
      "metadata": {
        "id": "9Yp3tSJeMBdZ"
      },
      "execution_count": null,
      "outputs": []
    },
    {
      "cell_type": "code",
      "source": [
        "# Affiche les signaux\n",
        "_, axes = plt.subplots(nrows=1, ncols=2, figsize=(12,4), dpi=100, facecolor='w', edgecolor='k')\n",
        "# Graphique gauche\n",
        "axes[0].plot(t, filtered)\n",
        "axes[0].set_xlabel('Temps (s)')\n",
        "axes[0].set_ylabel('x(t)')\n",
        "axes[0].set_title('Signal x(t) dans le domaine temporel')\n",
        "# Graphique droite\n",
        "axes[1].plot(f[:250], np.abs(filtered_xf)[:250])\n",
        "axes[1].set_xlabel('Fréquences (Hz)')\n",
        "axes[1].set_ylabel('X(f)')\n",
        "axes[1].set_title('Signal x(t) dans le domaine fréquentiel')\n",
        "plt.show()"
      ],
      "metadata": {
        "id": "1PPSWA3vRe2m"
      },
      "execution_count": null,
      "outputs": []
    },
    {
      "cell_type": "markdown",
      "source": [
        "\n",
        "### Vos commentaires\n",
        "> [TODO] \n"
      ],
      "metadata": {
        "id": "wiqJpP8KaAL1"
      }
    }
  ]
}